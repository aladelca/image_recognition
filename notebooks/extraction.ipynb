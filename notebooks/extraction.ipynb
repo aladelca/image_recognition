{
 "cells": [
  {
   "cell_type": "code",
   "execution_count": 17,
   "metadata": {},
   "outputs": [
    {
     "name": "stdout",
     "output_type": "stream",
     "text": [
      "The autoreload extension is already loaded. To reload it, use:\n",
      "  %reload_ext autoreload\n"
     ]
    }
   ],
   "source": [
    "import os\n",
    "os.chdir('../src/')\n",
    "%load_ext autoreload\n",
    "%autoreload 2"
   ]
  },
  {
   "cell_type": "code",
   "execution_count": 10,
   "metadata": {},
   "outputs": [],
   "source": [
    "from data_extract.extract import Extractor"
   ]
  },
  {
   "cell_type": "code",
   "execution_count": 29,
   "metadata": {},
   "outputs": [
    {
     "name": "stderr",
     "output_type": "stream",
     "text": [
      "2024-11-24 13:07:45,546 - INFO - feeder - thread feeder-001 exit\n",
      "2024-11-24 13:07:46,313 - INFO - parser - parsing result page https://www.google.com/search?q=robert+lewandowski&ijn=0&start=0&tbs=&tbm=isch\n",
      "2024-11-24 13:07:47,093 - INFO - downloader - image #1\thttps://upload.wikimedia.org/wikipedia/commons/2/26/2019147183134_2019-05-27_Fussball_1.FC_Kaiserslautern_vs_FC_Bayern_M%C3%BCnchen_-_Sven_-_1D_X_MK_II_-_0228_-_B70I8527_%28cropped%29.jpg\n",
      "2024-11-24 13:07:47,209 - INFO - downloader - image #2\thttps://media.video-cdn.espn.com/motion/2024/0925/ss_20240925_162123240_2648471/ss_20240925_162123240_2648471.jpg\n",
      "2024-11-24 13:07:48,080 - INFO - downloader - image #3\thttps://fcb-abj-pre.s3.amazonaws.com/img/jugadors/LEWANDOWSKI-min.jpg\n",
      "2024-11-24 13:07:48,209 - INFO - downloader - image #4\thttps://b.fssta.com/uploads/application/soccer/headshots/2100.vresize.350.350.medium.7.png\n",
      "2024-11-24 13:07:48,459 - INFO - downloader - image #5\thttps://static.wikia.nocookie.net/fifa/images/c/c5/RobertLewandowski.png\n",
      "2024-11-24 13:07:53,730 - ERROR - downloader - Exception caught when downloading file https://img.fcbayern.com/image/upload/f_auto/q_auto/t_cms-4x3-seo/v1656615315/cms/public/images/fcbayern-com/players/spielerportraits/ganzkoerper/robert_lewandowski.png, error: HTTPSConnectionPool(host='img.fcbayern.com', port=443): Read timed out. (read timeout=5), remaining retry times: 2\n",
      "2024-11-24 13:07:58,761 - ERROR - downloader - Exception caught when downloading file https://img.fcbayern.com/image/upload/f_auto/q_auto/t_cms-4x3-seo/v1656615315/cms/public/images/fcbayern-com/players/spielerportraits/ganzkoerper/robert_lewandowski.png, error: HTTPSConnectionPool(host='img.fcbayern.com', port=443): Read timed out. (read timeout=5), remaining retry times: 1\n",
      "2024-11-24 13:08:03,793 - ERROR - downloader - Exception caught when downloading file https://img.fcbayern.com/image/upload/f_auto/q_auto/t_cms-4x3-seo/v1656615315/cms/public/images/fcbayern-com/players/spielerportraits/ganzkoerper/robert_lewandowski.png, error: HTTPSConnectionPool(host='img.fcbayern.com', port=443): Read timed out. (read timeout=5), remaining retry times: 0\n",
      "2024-11-24 13:08:06,003 - INFO - downloader - image #6\thttps://centredevils.co.uk/wp-content/uploads/2024/11/robert-lewandowski-fc-barcelona-2024-25-1730103967-152589.jpg\n",
      "2024-11-24 13:08:06,334 - INFO - downloader - image #7\thttps://images2.minutemediacdn.com/image/upload/c_crop,w_5000,h_2812,x_0,y_178/c_fill,w_720,ar_16:9,f_auto,q_auto,g_auto/images/GettyImages/mmsport/90min_en_international_web/01jd2kt65ntjdbv4qq4w.jpg\n",
      "2024-11-24 13:08:06,417 - INFO - downloader - image #8\thttps://ichef.bbci.co.uk/ace/standard/996/cpsprodpb/70a2/live/820fc2c0-27f0-11ef-8748-d589b4996777.jpg\n",
      "2024-11-24 13:08:06,930 - INFO - downloader - image #9\thttps://img.a.transfermarkt.technology/portrait/big/38253-1701118759.jpg\n",
      "2024-11-24 13:08:07,189 - INFO - downloader - image #10\thttps://images2.minutemediacdn.com/image/upload/c_crop,w_5000,h_2812,x_0,y_56/c_fill,w_720,ar_16:9,f_auto,q_auto,g_auto/images/GettyImages/mmsport/90min_en_international_web/01jd5kmpfeadwnxt70bv.jpg\n",
      "2024-11-24 13:08:07,424 - INFO - downloader - image #11\thttps://library.sportingnews.com/styles/crop_style_16_9_desktop/s3/2024-08/GettyImages-2164571645.jpg\n",
      "2024-11-24 13:08:07,495 - INFO - downloader - image #12\thttps://cdn.vox-cdn.com/thumbor/L3ClIEOBCLdPCpPW86lHA-QCzX4=/0x0:5000x3333/1200x800/filters:focal(1752x567:2552x1367)/cdn.vox-cdn.com/uploads/chorus_image/image/73701306/2182669668.0.jpg\n",
      "2024-11-24 13:08:07,615 - ERROR - downloader - Response status code 400, file https://media.gettyimages.com/id/1444734448/photo/al-rayyan-qatar-robert-lewandowski-of-poland-celebrates-after-scoring-their-teams-second-goal.jpg\n",
      "2024-11-24 13:08:07,776 - INFO - downloader - image #13\thttps://i.ytimg.com/vi/HUHK5LhXuDQ/hq720.jpg\n",
      "2024-11-24 13:08:08,972 - INFO - downloader - image #14\thttps://c.ndtvimg.com/2024-08/aa8i3mv8_robert-lewandowski-afp_625x300_25_August_24.jpg\n",
      "2024-11-24 13:08:09,092 - ERROR - downloader - Response status code 400, file https://www.fcbarcelona.com/photo-resources/2024/02/28/331d29ea-4542-4a5b-81eb-8963b3a693b3/EntrevistaLewandowski-035.jpg\n",
      "2024-11-24 13:08:14,116 - ERROR - downloader - Exception caught when downloading file https://img.fcbayern.com/image/upload/v1657983597/cms/public/images/fcbayern-com/homepage/saison-21-22/Profis/Lewandowski/220716-lewandowski-fc-barcelona.jpg, error: HTTPSConnectionPool(host='img.fcbayern.com', port=443): Read timed out. (read timeout=5), remaining retry times: 2\n",
      "2024-11-24 13:08:19,154 - ERROR - downloader - Exception caught when downloading file https://img.fcbayern.com/image/upload/v1657983597/cms/public/images/fcbayern-com/homepage/saison-21-22/Profis/Lewandowski/220716-lewandowski-fc-barcelona.jpg, error: HTTPSConnectionPool(host='img.fcbayern.com', port=443): Read timed out. (read timeout=5), remaining retry times: 1\n",
      "2024-11-24 13:08:24,197 - ERROR - downloader - Exception caught when downloading file https://img.fcbayern.com/image/upload/v1657983597/cms/public/images/fcbayern-com/homepage/saison-21-22/Profis/Lewandowski/220716-lewandowski-fc-barcelona.jpg, error: HTTPSConnectionPool(host='img.fcbayern.com', port=443): Read timed out. (read timeout=5), remaining retry times: 0\n",
      "2024-11-24 13:08:24,248 - INFO - downloader - image #15\thttps://images.ps-aws.com/c?url=https%3A%2F%2Fimages.teamtalk.com%2Fcontent%2Fuploads%2F2024%2F11%2F19205456%2Frobert-lewandowski-1-1320x742.jpg\n",
      "2024-11-24 13:08:24,382 - INFO - downloader - image #16\thttps://images2.minutemediacdn.com/image/upload/c_crop,w_4000,h_2250,x_0,y_320/c_fill,w_912,ar_16:9,f_auto,q_auto,g_auto/images/voltaxMediaLibrary/mmsport/si/01jd7t6r2dv6pgz82765.jpg\n",
      "2024-11-24 13:08:24,645 - INFO - downloader - image #17\thttps://upload.wikimedia.org/wikipedia/commons/a/ad/Robert_Lewandowski_2018_%28cropped%29.jpg\n",
      "2024-11-24 13:08:25,032 - INFO - downloader - image #18\thttps://media.cnn.com/api/v1/images/stellar/prod/220309055312-04-lewandowski-bayern-salzburg-03082022.jpg\n",
      "2024-11-24 13:08:25,095 - INFO - downloader - image #19\thttps://i.dailymail.co.uk/1s/2024/11/21/16/92336775-0-image-a-2_1732205411068.jpg\n",
      "2024-11-24 13:08:25,348 - ERROR - downloader - Response status code 400, file https://cdn.vox-cdn.com/thumbor/ard1aA-nBjuY1ZsrXFjvCtzKtCc=/185x0:2931x2024/1200x800/filters:focal(1273x435:1741x903)/cdn.vox-cdn.com/uploads/chorus_image/image/65737446/1151746674.jpg\n",
      "2024-11-24 13:08:25,393 - ERROR - downloader - Response status code 403, file https://preview.redd.it/robert-lewandowski-bayern-will-always-stay-with-me-i-have-v0-w8q3wmk3arwd1.png\n",
      "2024-11-24 13:08:26,321 - INFO - downloader - image #20\thttps://pzpn.pl/public/system/images/articles/8934/12649-zoom.jpg\n",
      "2024-11-24 13:08:26,443 - INFO - downloader - image #21\thttps://images2.minutemediacdn.com/image/upload/c_crop,w_1675,h_942,x_64,y_106/c_fill,w_912,ar_16:9,f_auto,q_auto,g_auto/images/voltaxMediaLibrary/mmsport/si/01jab6b0nh9bv2bkqk2m.jpg\n",
      "2024-11-24 13:08:26,787 - INFO - downloader - image #22\thttps://assets.goal.com/images/v3/blt40c7d31ee0491ff0/GOAL%20-%20Multiple%20Images%20-%202%20Split%20-%20Facebook%20-%202024-11-21T185955.698.png\n",
      "2024-11-24 13:08:27,139 - INFO - downloader - image #23\thttps://media.cnn.com/api/v1/images/stellar/prod/gettyimages-2116926393.jpg\n",
      "2024-11-24 13:08:27,214 - INFO - downloader - image #24\thttps://ichef.bbci.co.uk/ace/standard/624/cpsprodpb/F4D7/production/_116097626_lewaq.jpg\n",
      "2024-11-24 13:08:28,497 - INFO - downloader - image #25\thttps://thethaovanhoa.mediacdn.vn/372676912336973824/2024/11/23/lewandowski5-17323634971241769385891.jpg\n",
      "2024-11-24 13:08:28,590 - INFO - downloader - image #26\thttps://static01.nyt.com/images/2024/09/13/multimedia/13rory-lewy-kfgc/13rory-lewy-kfgc-mediumSquareAt3X.jpg\n",
      "2024-11-24 13:08:28,879 - INFO - downloader - image #27\thttps://images2.minutemediacdn.com/image/upload/c_crop,w_1919,h_1079,x_0,y_0/c_fill,w_720,ar_16:9,f_auto,q_auto,g_auto/images/voltaxMediaLibrary/mmsport/90min_en_international_web/01jd9y65kvp8hmgf6d0w.jpg\n",
      "2024-11-24 13:08:29,831 - INFO - downloader - image #28\thttps://cdn.vox-cdn.com/thumbor/zbG0YxzlAgjDY7hXVQetHnwehkw=/0x0:4282x2855/1200x800/filters:focal(1462x360:2146x1044)/cdn.vox-cdn.com/uploads/chorus_image/image/73714293/2183445736.0.jpg\n",
      "2024-11-24 13:08:31,572 - INFO - downloader - image #29\thttps://assets.laliga.com/squad/2024/t178/p56764/2048x2225/p56764_t178_2024_1_001_000.png\n",
      "2024-11-24 13:08:31,754 - INFO - downloader - image #30\thttps://m.media-amazon.com/images/M/MV5BZDM4ZmEyZTAtYmI0MC00NjQzLWIyZGQtMzMyYjM5MjA3MjY4XkEyXkFqcGc@._V1_FMjpg\n",
      "2024-11-24 13:08:32,053 - ERROR - downloader - Response status code 404, file https://upload.wikimedia.org/wikipedia/commons/thumb/8/80/Robert_Lewandowski_Training_FC_Bayern_M%C3%BCnchen-2.jpg\n",
      "2024-11-24 13:08:32,893 - INFO - downloader - image #31\thttps://img.bundesliga.com/tachyon/sites/2/2021/05/lewy-motmd34.jpg\n",
      "2024-11-24 13:08:33,134 - INFO - downloader - image #32\thttps://images2.minutemediacdn.com/image/upload/c_crop,w_2916,h_1640,x_693,y_62/c_fill,w_912,ar_16:9,f_auto,q_auto,g_auto/images/voltaxMediaLibrary/mmsport/si/01j8nawn1bevz9y1cncx.jpg\n",
      "2024-11-24 13:08:33,176 - ERROR - downloader - Response status code 403, file https://external-preview.redd.it/robert-lewandowski-on-not-winning-the-ballon-dor-in-2020-v0-G40TK4f9uY-Hee_XxqPxVmGviKL0Skdmg2C_GpJ4Ew4.jpg\n",
      "2024-11-24 13:08:33,695 - INFO - downloader - image #33\thttps://media.cnn.com/api/v1/images/stellar/prod/210522122452-02-robert-lewandowski-0522.jpg\n",
      "2024-11-24 13:08:33,813 - ERROR - downloader - Response status code 400, file https://media.gettyimages.com/id/1456048506/photo/riyadh-saudi-arabia-robert-lewandowski-of-fc-barcelona-celebrates-after-scoring-the-teams.jpg\n",
      "2024-11-24 13:08:34,500 - INFO - downloader - image #34\thttps://tmssl.akamaized.net//images/foto/galerie/robert-lewandowski-poland-2024-1718113346-139140.jpg\n",
      "2024-11-24 13:08:34,544 - ERROR - downloader - Response status code 401, file https://i.guim.co.uk/img/media/11ea8ecbace004bedb1065f1248359bb04e6d358/153_6_3767_2260/master/3767.jpg\n",
      "2024-11-24 13:08:35,833 - INFO - downloader - image #35\thttps://c.ndtvimg.com/2021-03/us6hoq1g_robert-lewandowski-bayern-munich-instagram_625x300_30_March_21.jpg\n",
      "2024-11-24 13:08:36,143 - INFO - downloader - image #36\thttps://static.independent.co.uk/2024/05/23/10/newFile-1.jpg\n",
      "2024-11-24 13:08:37,111 - INFO - downloader - image #37\thttps://i0.wp.com/thesefootballtimes.co/wp-content/uploads/2017/10/lewandowsk.jpg\n",
      "2024-11-24 13:08:38,710 - INFO - downloader - image #38\thttps://cdn.vox-cdn.com/thumbor/bUFsxXPH-x-sxH-0ILGO5dh0ijs=/0x0:6000x4000/1200x800/filters:focal(3550x928:4510x1888)/cdn.vox-cdn.com/uploads/chorus_image/image/73714526/2183484045.0.jpg\n",
      "2024-11-24 13:08:38,808 - ERROR - downloader - Response status code 400, file https://media.gettyimages.com/id/167421498/photo/dortmund-germany-robert-lewandowski-celebrates-after-scoring-a-penalty-to-mark-his-teams.jpg\n",
      "2024-11-24 13:08:39,864 - INFO - downloader - image #39\thttps://e0.365dm.com/22/04/1600x900/skysports-robert-lewandowski_5738132.jpg\n",
      "2024-11-24 13:08:40,210 - INFO - downloader - image #40\thttps://static.euronews.com/articles/stories/06/85/58/92/1200x675_cmsv2_1590598a-d9a8-5fb0-9044-c26652f9fe4b-6855892.jpg\n",
      "2024-11-24 13:08:40,389 - INFO - downloader - image #41\thttps://www.si.com/.image/t_share/MTgxNTk0NDg4MTYwOTIwNjg1/robert-lewandowski-poland-bayern-trophy.jpg\n",
      "2024-11-24 13:08:41,851 - INFO - downloader - image #42\thttps://www.hindustantimes.com/ht-img/img/2024/11/11/550x309/Lamine_Yamal_Robert_Lewandowski_1731335427952_1731335428155.jpg\n",
      "2024-11-24 13:08:42,817 - INFO - downloader - image #43\thttps://assets.bundesliga.com/tachyon/sites/2/2019/11/MA2_1972-1.jpg\n",
      "2024-11-24 13:08:42,871 - INFO - downloader - image #44\thttps://i.pinimg.com/736x/70/0c/67/700c672f7858c96f094fb4faf1dc6ea9.jpg\n",
      "2024-11-24 13:08:43,134 - ERROR - downloader - Response status code 404, file https://upload.wikimedia.org/wikipedia/commons/thumb/2/2e/Robert_Lewandowski_Training_2017-03_FC_Bayern_Muenchen-3.jpg\n",
      "2024-11-24 13:08:43,142 - INFO - parser - parsing result page https://www.google.com/search?q=robert+lewandowski&ijn=1&start=100&tbs=&tbm=isch\n",
      "Exception in thread parser-001:\n",
      "Traceback (most recent call last):\n",
      "  File \u001b[35m\"/opt/homebrew/Cellar/python@3.13/3.13.0_1/Frameworks/Python.framework/Versions/3.13/lib/python3.13/threading.py\"\u001b[0m, line \u001b[35m1041\u001b[0m, in \u001b[35m_bootstrap_inner\u001b[0m\n",
      "    \u001b[31mself.run\u001b[0m\u001b[1;31m()\u001b[0m\n",
      "    \u001b[31m~~~~~~~~\u001b[0m\u001b[1;31m^^\u001b[0m\n",
      "  File \u001b[35m\"/Users/aladelca/Library/CloudStorage/GoogleDrive-alarcon.adrianc@gmail.com/My Drive/portafolio/image_recognition/image_recognition/.venv/lib/python3.13/site-packages/ipykernel/ipkernel.py\"\u001b[0m, line \u001b[35m766\u001b[0m, in \u001b[35mrun_closure\u001b[0m\n",
      "    \u001b[31m_threading_Thread_run\u001b[0m\u001b[1;31m(self)\u001b[0m\n",
      "    \u001b[31m~~~~~~~~~~~~~~~~~~~~~\u001b[0m\u001b[1;31m^^^^^^\u001b[0m\n",
      "  File \u001b[35m\"/opt/homebrew/Cellar/python@3.13/3.13.0_1/Frameworks/Python.framework/Versions/3.13/lib/python3.13/threading.py\"\u001b[0m, line \u001b[35m992\u001b[0m, in \u001b[35mrun\u001b[0m\n",
      "    \u001b[31mself._target\u001b[0m\u001b[1;31m(*self._args, **self._kwargs)\u001b[0m\n",
      "    \u001b[31m~~~~~~~~~~~~\u001b[0m\u001b[1;31m^^^^^^^^^^^^^^^^^^^^^^^^^^^^^\u001b[0m\n",
      "  File \u001b[35m\"/Users/aladelca/Library/CloudStorage/GoogleDrive-alarcon.adrianc@gmail.com/My Drive/portafolio/image_recognition/image_recognition/.venv/lib/python3.13/site-packages/icrawler/parser.py\"\u001b[0m, line \u001b[35m94\u001b[0m, in \u001b[35mworker_exec\u001b[0m\n",
      "    for task in \u001b[31mself.parse\u001b[0m\u001b[1;31m(response, **kwargs)\u001b[0m:\n",
      "                \u001b[31m~~~~~~~~~~\u001b[0m\u001b[1;31m^^^^^^^^^^^^^^^^^^^^\u001b[0m\n",
      "\u001b[1;35mTypeError\u001b[0m: \u001b[35m'NoneType' object is not iterable\u001b[0m\n",
      "2024-11-24 13:08:45,564 - INFO - downloader - image #45\thttps://images.supersport.com/media/ovsdy4xk/robertlewandowski-1200g.jpg\n",
      "2024-11-24 13:08:45,767 - INFO - downloader - image #46\thttps://i.ytimg.com/vi/CDtF2EUean0/hq720.jpg\n",
      "2024-11-24 13:08:46,054 - INFO - downloader - image #47\thttps://images2.minutemediacdn.com/image/upload/c_fill,w_1440,ar_16:9,f_auto,q_auto,g_auto/shape/cover/sport/87caa1c50958e09c3a763e40bcaffdad8571386ecbedb865b91e262149aac292.jpg\n",
      "2024-11-24 13:08:51,063 - INFO - downloader - no more download task for thread downloader-001\n",
      "2024-11-24 13:08:51,065 - INFO - downloader - thread downloader-001 exit\n"
     ]
    },
    {
     "data": {
      "text/plain": [
       "'Data extracted successfully'"
      ]
     },
     "execution_count": 29,
     "metadata": {},
     "output_type": "execute_result"
    }
   ],
   "source": [
    "extractor = Extractor()\n",
    "\n",
    "extractor.extract_data(\n",
    "    query = \"robert lewandowski\",\n",
    "    max_num = 300,\n",
    "    search_engine = [ \"google\"],\n",
    "    path = \"../data/\")"
   ]
  },
  {
   "cell_type": "code",
   "execution_count": 25,
   "metadata": {},
   "outputs": [
    {
     "data": {
      "text/plain": [
       "['lionel messi', 'mbappe', 'marco reus', 'cristiano ronaldo']"
      ]
     },
     "execution_count": 25,
     "metadata": {},
     "output_type": "execute_result"
    }
   ],
   "source": [
    "os.listdir(\"../data/\")"
   ]
  },
  {
   "cell_type": "code",
   "execution_count": 33,
   "metadata": {},
   "outputs": [
    {
     "name": "stdout",
     "output_type": "stream",
     "text": [
      "Renombrado: ../data/robert lewandowski/000026.jpg -> ../data/robert lewandowski/new_image_1.jpg\n",
      "Renombrado: ../data/robert lewandowski/000032.jpg -> ../data/robert lewandowski/new_image_2.jpg\n",
      "Renombrado: ../data/robert lewandowski/000033.jpg -> ../data/robert lewandowski/new_image_3.jpg\n",
      "Renombrado: ../data/robert lewandowski/000027.jpg -> ../data/robert lewandowski/new_image_4.jpg\n",
      "Renombrado: ../data/robert lewandowski/000019.jpg -> ../data/robert lewandowski/new_image_5.jpg\n",
      "Renombrado: ../data/robert lewandowski/000031.jpg -> ../data/robert lewandowski/new_image_6.jpg\n",
      "Renombrado: ../data/robert lewandowski/000025.jpg -> ../data/robert lewandowski/new_image_7.jpg\n",
      "Renombrado: ../data/robert lewandowski/000024.jpg -> ../data/robert lewandowski/new_image_8.jpg\n",
      "Renombrado: ../data/robert lewandowski/000030.jpg -> ../data/robert lewandowski/new_image_9.jpg\n",
      "Renombrado: ../data/robert lewandowski/000018.jpg -> ../data/robert lewandowski/new_image_10.jpg\n",
      "Renombrado: ../data/robert lewandowski/000034.jpg -> ../data/robert lewandowski/new_image_11.jpg\n",
      "Renombrado: ../data/robert lewandowski/000020.jpg -> ../data/robert lewandowski/new_image_12.jpg\n",
      "Renombrado: ../data/robert lewandowski/000008.jpg -> ../data/robert lewandowski/new_image_13.jpg\n",
      "Renombrado: ../data/robert lewandowski/000009.jpg -> ../data/robert lewandowski/new_image_14.jpg\n",
      "Renombrado: ../data/robert lewandowski/000021.jpg -> ../data/robert lewandowski/new_image_15.jpg\n",
      "Renombrado: ../data/robert lewandowski/000035.jpg -> ../data/robert lewandowski/new_image_16.jpg\n",
      "Renombrado: ../data/robert lewandowski/000023.jpg -> ../data/robert lewandowski/new_image_17.jpg\n",
      "Renombrado: ../data/robert lewandowski/000037.jpg -> ../data/robert lewandowski/new_image_18.jpg\n",
      "Renombrado: ../data/robert lewandowski/000036.jpg -> ../data/robert lewandowski/new_image_19.jpg\n",
      "Renombrado: ../data/robert lewandowski/000022.png -> ../data/robert lewandowski/new_image_20.png\n",
      "Renombrado: ../data/robert lewandowski/000045.jpg -> ../data/robert lewandowski/new_image_21.jpg\n",
      "Renombrado: ../data/robert lewandowski/000044.jpg -> ../data/robert lewandowski/new_image_22.jpg\n",
      "Renombrado: ../data/robert lewandowski/000046.jpg -> ../data/robert lewandowski/new_image_23.jpg\n",
      "Renombrado: ../data/robert lewandowski/000047.jpg -> ../data/robert lewandowski/new_image_24.jpg\n",
      "Renombrado: ../data/robert lewandowski/000043.jpg -> ../data/robert lewandowski/new_image_25.jpg\n",
      "Renombrado: ../data/robert lewandowski/000042.jpg -> ../data/robert lewandowski/new_image_26.jpg\n",
      "Renombrado: ../data/robert lewandowski/000040.jpg -> ../data/robert lewandowski/new_image_27.jpg\n",
      "Renombrado: ../data/robert lewandowski/000041.jpg -> ../data/robert lewandowski/new_image_28.jpg\n",
      "Renombrado: ../data/robert lewandowski/000007.jpg -> ../data/robert lewandowski/new_image_29.jpg\n",
      "Renombrado: ../data/robert lewandowski/000013.jpg -> ../data/robert lewandowski/new_image_30.jpg\n",
      "Renombrado: ../data/robert lewandowski/000012.jpg -> ../data/robert lewandowski/new_image_31.jpg\n",
      "Renombrado: ../data/robert lewandowski/000006.jpg -> ../data/robert lewandowski/new_image_32.jpg\n",
      "Renombrado: ../data/robert lewandowski/000004.png -> ../data/robert lewandowski/new_image_33.png\n",
      "Renombrado: ../data/robert lewandowski/000038.jpg -> ../data/robert lewandowski/new_image_34.jpg\n",
      "Renombrado: ../data/robert lewandowski/000010.jpg -> ../data/robert lewandowski/new_image_35.jpg\n",
      "Renombrado: ../data/robert lewandowski/000011.jpg -> ../data/robert lewandowski/new_image_36.jpg\n",
      "Renombrado: ../data/robert lewandowski/000039.jpg -> ../data/robert lewandowski/new_image_37.jpg\n",
      "Renombrado: ../data/robert lewandowski/000005.png -> ../data/robert lewandowski/new_image_38.png\n",
      "Renombrado: ../data/robert lewandowski/000029.png -> ../data/robert lewandowski/new_image_39.png\n",
      "Renombrado: ../data/robert lewandowski/000015.jpg -> ../data/robert lewandowski/new_image_40.jpg\n",
      "Renombrado: ../data/robert lewandowski/000001.jpg -> ../data/robert lewandowski/new_image_41.jpg\n",
      "Renombrado: ../data/robert lewandowski/000028.jpg -> ../data/robert lewandowski/new_image_42.jpg\n",
      "Renombrado: ../data/robert lewandowski/000014.jpg -> ../data/robert lewandowski/new_image_43.jpg\n",
      "Renombrado: ../data/robert lewandowski/000002.jpg -> ../data/robert lewandowski/new_image_44.jpg\n",
      "Renombrado: ../data/robert lewandowski/000016.jpg -> ../data/robert lewandowski/new_image_45.jpg\n",
      "Renombrado: ../data/robert lewandowski/000017.jpg -> ../data/robert lewandowski/new_image_46.jpg\n",
      "Renombrado: ../data/robert lewandowski/000003.jpg -> ../data/robert lewandowski/new_image_47.jpg\n"
     ]
    }
   ],
   "source": [
    "import os\n",
    "\n",
    "def rename_images(folder_path, new_name_prefix):\n",
    "    \"\"\"\n",
    "    Cambia el nombre de las imágenes en una carpeta específica.\n",
    "    \n",
    "    Parameters:\n",
    "        folder_path (str): Ruta de la carpeta donde están las imágenes.\n",
    "        new_name_prefix (str): Prefijo para los nuevos nombres de archivo.\n",
    "    \"\"\"\n",
    "    # Listar los archivos en la carpeta\n",
    "    files = os.listdir(folder_path)\n",
    "    # Filtrar solo las imágenes (por extensiones comunes)\n",
    "    image_extensions = ('.jpg', '.jpeg', '.png', '.gif', '.bmp')\n",
    "    images = [file for file in files if file.lower().endswith(image_extensions)]\n",
    "    \n",
    "    # Renombrar cada imagen\n",
    "    for idx, image in enumerate(images, start=1):\n",
    "        # Obtener la extensión del archivo original\n",
    "        file_extension = os.path.splitext(image)[1]\n",
    "        \n",
    "        # Crear el nuevo nombre\n",
    "        new_name = f\"{new_name_prefix}_{idx}{file_extension}\"\n",
    "        \n",
    "        # Construir rutas completas\n",
    "        old_path = os.path.join(folder_path, image)\n",
    "        new_path = os.path.join(folder_path, new_name)\n",
    "        \n",
    "        # Renombrar el archivo\n",
    "        os.rename(old_path, new_path)\n",
    "        print(f\"Renombrado: {old_path} -> {new_path}\")\n",
    "\n",
    "# Ejemplo de uso\n",
    "folder_path = \"../data/robert lewandowski/\"  # Reemplaza con la ruta de tu carpeta\n",
    "new_name_prefix = \"new_image\"\n",
    "rename_images(folder_path, new_name_prefix)\n"
   ]
  }
 ],
 "metadata": {
  "kernelspec": {
   "display_name": ".venv",
   "language": "python",
   "name": "python3"
  },
  "language_info": {
   "codemirror_mode": {
    "name": "ipython",
    "version": 3
   },
   "file_extension": ".py",
   "mimetype": "text/x-python",
   "name": "python",
   "nbconvert_exporter": "python",
   "pygments_lexer": "ipython3",
   "version": "3.13.0"
  }
 },
 "nbformat": 4,
 "nbformat_minor": 2
}
